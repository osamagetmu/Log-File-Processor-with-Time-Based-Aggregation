{
 "cells": [
  {
   "cell_type": "code",
   "execution_count": 50,
   "id": "8bf2288e-2f2d-4429-ba77-e17dee300566",
   "metadata": {},
   "outputs": [],
   "source": [
    "import pandas as pd\n",
    "import matplotlib.pyplot as plt\n",
    "import os\n",
    "from collections import defaultdict, Counter\n",
    "import heapq"
   ]
  },
  {
   "cell_type": "code",
   "execution_count": 55,
   "id": "acbe1d8e-951f-4909-acc4-f6a7f1de395f",
   "metadata": {},
   "outputs": [
    {
     "name": "stdout",
     "output_type": "stream",
     "text": [
      "<class 'pandas.core.frame.DataFrame'>\n",
      "RangeIndex: 200 entries, 0 to 199\n",
      "Data columns (total 3 columns):\n",
      " #   Column      Non-Null Count  Dtype         \n",
      "---  ------      --------------  -----         \n",
      " 0   timestamp   200 non-null    datetime64[ns]\n",
      " 1   event_type  200 non-null    object        \n",
      " 2   user_id     200 non-null    object        \n",
      "dtypes: datetime64[ns](1), object(2)\n",
      "memory usage: 4.8+ KB\n"
     ]
    }
   ],
   "source": [
    "log = pd.read_csv(\"data/logs.csv\", parse_dates=[\"timestamp\"])\n",
    "log.info()"
   ]
  },
  {
   "cell_type": "code",
   "execution_count": 56,
   "id": "09e6cbbe-ecc1-4140-b1df-132af6a65fb1",
   "metadata": {},
   "outputs": [],
   "source": [
    "log['event_type'] = log['event_type'].str.strip().str.lower()\n",
    "log = df.dropna(subset=[\"timestamp\", \"event_type\", \"user_id\"])"
   ]
  },
  {
   "cell_type": "code",
   "execution_count": 57,
   "id": "73f157ad-e456-4810-b214-d7a540394bfb",
   "metadata": {},
   "outputs": [],
   "source": [
    "log[\"timestamp\"] = pd.to_datetime(log[\"timestamp\"], errors='coerce')\n",
    "log[\"hour\"] = log[\"timestamp\"].dt.hour\n",
    "\n",
    "events_by_hour = defaultdict(int)\n",
    "for hour in log[\"hour\"]:\n",
    "    events_by_hour[hour] += 1"
   ]
  },
  {
   "cell_type": "code",
   "execution_count": 58,
   "id": "043c53bc-2160-47ef-a31e-e7d3505d556b",
   "metadata": {},
   "outputs": [],
   "source": [
    "events_log = pd.DataFrame(list(events_by_hour.items()), columns=[\"hour\", \"event_count\"])\n",
    "os.makedirs(\"output\", exist_ok=True)\n",
    "events_log.to_csv(\"output/summary_by_hour.csv\", index=False)"
   ]
  },
  {
   "cell_type": "code",
   "execution_count": 59,
   "id": "f518ae18-798c-4629-9243-f2d529e9fd7d",
   "metadata": {},
   "outputs": [
    {
     "data": {
      "image/png": "[encoded data removed]",
      "text/plain": [
       "<Figure size 640x480 with 1 Axes>"
      ]
     },
     "metadata": {},
     "output_type": "display_data"
    }
   ],
   "source": [
    "events_log.sort_values(\"hour\").plot(x=\"hour\", y=\"event_count\", kind=\"bar\", color=\"skyblue\", legend=False)\n",
    "plt.title(\"Number of Events per Hour\")\n",
    "plt.xlabel(\"Hour\")\n",
    "plt.ylabel(\"Event Count\")\n",
    "plt.xticks(rotation=0)\n",
    "plt.tight_layout()\n",
    "plt.savefig(\"output/events_per_hour.png\")"
   ]
  },
  {
   "cell_type": "code",
   "execution_count": 60,
   "id": "3bc1948f-a9f1-4b8e-9348-d5f24a5e5035",
   "metadata": {},
   "outputs": [
    {
     "name": "stdout",
     "output_type": "stream",
     "text": [
      "Project executed successfully. Outputs saved in 'output/' folder.\n"
     ]
    }
   ],
   "source": [
    "user_counter = Counter(log[\"user_id\"])\n",
    "top_users = heapq.nlargest(5, user_counter.items(), key=lambda x: x[1])\n",
    "top_users_log = pd.DataFrame(top_users, columns=[\"user_id\", \"event_count\"])\n",
    "top_users_log.to_csv(\"output/top_users.csv\", index=False)\n",
    "\n",
    "print(\"Project executed successfully. Outputs saved in 'output/' folder.\")"
   ]
  },
  {
   "cell_type": "code",
   "execution_count": 61,
   "id": "54e82b95-57b3-4863-9596-50b0cf4964f6",
   "metadata": {},
   "outputs": [
    {
     "data": {
      "text/html": [
       "<div>\n",
       "<style scoped>\n",
       "    .dataframe tbody tr th:only-of-type {\n",
       "        vertical-align: middle;\n",
       "    }\n",
       "\n",
       "    .dataframe tbody tr th {\n",
       "        vertical-align: top;\n",
       "    }\n",
       "\n",
       "    .dataframe thead th {\n",
       "        text-align: right;\n",
       "    }\n",
       "</style>\n",
       "<table border=\"1\" class=\"dataframe\">\n",
       "  <thead>\n",
       "    <tr style=\"text-align: right;\">\n",
       "      <th></th>\n",
       "      <th>timestamp</th>\n",
       "      <th>event_type</th>\n",
       "      <th>user_id</th>\n",
       "      <th>hour</th>\n",
       "    </tr>\n",
       "  </thead>\n",
       "  <tbody>\n",
       "    <tr>\n",
       "      <th>0</th>\n",
       "      <td>2025-08-01 12:50:00</td>\n",
       "      <td>login</td>\n",
       "      <td>user918</td>\n",
       "      <td>12</td>\n",
       "    </tr>\n",
       "    <tr>\n",
       "      <th>1</th>\n",
       "      <td>2025-08-01 12:04:00</td>\n",
       "      <td>click</td>\n",
       "      <td>user664</td>\n",
       "      <td>12</td>\n",
       "    </tr>\n",
       "    <tr>\n",
       "      <th>2</th>\n",
       "      <td>2025-08-01 13:43:00</td>\n",
       "      <td>login</td>\n",
       "      <td>user589</td>\n",
       "      <td>13</td>\n",
       "    </tr>\n",
       "    <tr>\n",
       "      <th>3</th>\n",
       "      <td>2025-08-01 11:33:00</td>\n",
       "      <td>logout</td>\n",
       "      <td>user598</td>\n",
       "      <td>11</td>\n",
       "    </tr>\n",
       "    <tr>\n",
       "      <th>4</th>\n",
       "      <td>2025-08-01 11:00:00</td>\n",
       "      <td>login</td>\n",
       "      <td>user968</td>\n",
       "      <td>11</td>\n",
       "    </tr>\n",
       "    <tr>\n",
       "      <th>...</th>\n",
       "      <td>...</td>\n",
       "      <td>...</td>\n",
       "      <td>...</td>\n",
       "      <td>...</td>\n",
       "    </tr>\n",
       "    <tr>\n",
       "      <th>195</th>\n",
       "      <td>2025-08-01 10:39:00</td>\n",
       "      <td>view</td>\n",
       "      <td>user361</td>\n",
       "      <td>10</td>\n",
       "    </tr>\n",
       "    <tr>\n",
       "      <th>196</th>\n",
       "      <td>2025-08-01 11:32:00</td>\n",
       "      <td>login</td>\n",
       "      <td>user546</td>\n",
       "      <td>11</td>\n",
       "    </tr>\n",
       "    <tr>\n",
       "      <th>197</th>\n",
       "      <td>2025-08-01 10:13:00</td>\n",
       "      <td>click</td>\n",
       "      <td>user985</td>\n",
       "      <td>10</td>\n",
       "    </tr>\n",
       "    <tr>\n",
       "      <th>198</th>\n",
       "      <td>2025-08-01 12:12:00</td>\n",
       "      <td>login</td>\n",
       "      <td>user144</td>\n",
       "      <td>12</td>\n",
       "    </tr>\n",
       "    <tr>\n",
       "      <th>199</th>\n",
       "      <td>2025-08-01 11:21:00</td>\n",
       "      <td>click</td>\n",
       "      <td>user638</td>\n",
       "      <td>11</td>\n",
       "    </tr>\n",
       "  </tbody>\n",
       "</table>\n",
       "<p>200 rows × 4 columns</p>\n",
       "</div>"
      ],
      "text/plain": [
       "              timestamp event_type  user_id  hour\n",
       "0   2025-08-01 12:50:00      login  user918    12\n",
       "1   2025-08-01 12:04:00      click  user664    12\n",
       "2   2025-08-01 13:43:00      login  user589    13\n",
       "3   2025-08-01 11:33:00     logout  user598    11\n",
       "4   2025-08-01 11:00:00      login  user968    11\n",
       "..                  ...        ...      ...   ...\n",
       "195 2025-08-01 10:39:00       view  user361    10\n",
       "196 2025-08-01 11:32:00      login  user546    11\n",
       "197 2025-08-01 10:13:00      click  user985    10\n",
       "198 2025-08-01 12:12:00      login  user144    12\n",
       "199 2025-08-01 11:21:00      click  user638    11\n",
       "\n",
       "[200 rows x 4 columns]"
      ]
     },
     "execution_count": 61,
     "metadata": {},
     "output_type": "execute_result"
    }
   ],
   "source": [
    "log"
   ]
  },
  {
   "cell_type": "code",
   "execution_count": 62,
   "id": "b290c91b-6586-49a6-979a-d650aa90d4ea",
   "metadata": {},
   "outputs": [
    {
     "data": {
      "text/html": [
       "<div>\n",
       "<style scoped>\n",
       "    .dataframe tbody tr th:only-of-type {\n",
       "        vertical-align: middle;\n",
       "    }\n",
       "\n",
       "    .dataframe tbody tr th {\n",
       "        vertical-align: top;\n",
       "    }\n",
       "\n",
       "    .dataframe thead th {\n",
       "        text-align: right;\n",
       "    }\n",
       "</style>\n",
       "<table border=\"1\" class=\"dataframe\">\n",
       "  <thead>\n",
       "    <tr style=\"text-align: right;\">\n",
       "      <th></th>\n",
       "      <th>hour</th>\n",
       "      <th>event_count</th>\n",
       "    </tr>\n",
       "  </thead>\n",
       "  <tbody>\n",
       "    <tr>\n",
       "      <th>0</th>\n",
       "      <td>12</td>\n",
       "      <td>41</td>\n",
       "    </tr>\n",
       "    <tr>\n",
       "      <th>1</th>\n",
       "      <td>13</td>\n",
       "      <td>41</td>\n",
       "    </tr>\n",
       "    <tr>\n",
       "      <th>2</th>\n",
       "      <td>11</td>\n",
       "      <td>43</td>\n",
       "    </tr>\n",
       "    <tr>\n",
       "      <th>3</th>\n",
       "      <td>14</td>\n",
       "      <td>32</td>\n",
       "    </tr>\n",
       "    <tr>\n",
       "      <th>4</th>\n",
       "      <td>10</td>\n",
       "      <td>43</td>\n",
       "    </tr>\n",
       "  </tbody>\n",
       "</table>\n",
       "</div>"
      ],
      "text/plain": [
       "   hour  event_count\n",
       "0    12           41\n",
       "1    13           41\n",
       "2    11           43\n",
       "3    14           32\n",
       "4    10           43"
      ]
     },
     "execution_count": 62,
     "metadata": {},
     "output_type": "execute_result"
    }
   ],
   "source": [
    "events_log"
   ]
  },
  {
   "cell_type": "code",
   "execution_count": 63,
   "id": "08a7eaf6-13b7-4c94-a142-963fcb5ca884",
   "metadata": {},
   "outputs": [
    {
     "data": {
      "text/html": [
       "<div>\n",
       "<style scoped>\n",
       "    .dataframe tbody tr th:only-of-type {\n",
       "        vertical-align: middle;\n",
       "    }\n",
       "\n",
       "    .dataframe tbody tr th {\n",
       "        vertical-align: top;\n",
       "    }\n",
       "\n",
       "    .dataframe thead th {\n",
       "        text-align: right;\n",
       "    }\n",
       "</style>\n",
       "<table border=\"1\" class=\"dataframe\">\n",
       "  <thead>\n",
       "    <tr style=\"text-align: right;\">\n",
       "      <th></th>\n",
       "      <th>user_id</th>\n",
       "      <th>event_count</th>\n",
       "    </tr>\n",
       "  </thead>\n",
       "  <tbody>\n",
       "    <tr>\n",
       "      <th>0</th>\n",
       "      <td>user638</td>\n",
       "      <td>11</td>\n",
       "    </tr>\n",
       "    <tr>\n",
       "      <th>1</th>\n",
       "      <td>user928</td>\n",
       "      <td>10</td>\n",
       "    </tr>\n",
       "    <tr>\n",
       "      <th>2</th>\n",
       "      <td>user232</td>\n",
       "      <td>10</td>\n",
       "    </tr>\n",
       "    <tr>\n",
       "      <th>3</th>\n",
       "      <td>user556</td>\n",
       "      <td>10</td>\n",
       "    </tr>\n",
       "    <tr>\n",
       "      <th>4</th>\n",
       "      <td>user985</td>\n",
       "      <td>9</td>\n",
       "    </tr>\n",
       "  </tbody>\n",
       "</table>\n",
       "</div>"
      ],
      "text/plain": [
       "   user_id  event_count\n",
       "0  user638           11\n",
       "1  user928           10\n",
       "2  user232           10\n",
       "3  user556           10\n",
       "4  user985            9"
      ]
     },
     "execution_count": 63,
     "metadata": {},
     "output_type": "execute_result"
    }
   ],
   "source": [
    "top_users_log"
   ]
  },
  {
   "cell_type": "code",
   "execution_count": null,
   "id": "eec215d4-90be-44da-95ae-afda9d5ab341",
   "metadata": {},
   "outputs": [],
   "source": []
  }
 ],
 "metadata": {
  "kernelspec": {
   "display_name": "Python 3 (ipykernel)",
   "language": "python",
   "name": "python3"
  },
  "language_info": {
   "codemirror_mode": {
    "name": "ipython",
    "version": 3
   },
   "file_extension": ".py",
   "mimetype": "text/x-python",
   "name": "python",
   "nbconvert_exporter": "python",
   "pygments_lexer": "ipython3",
   "version": "3.13.5"
  }
 },
 "nbformat": 4,
 "nbformat_minor": 5
}
