{
 "cells": [
  {
   "cell_type": "code",
   "execution_count": 1,
   "id": "7befbdc5-add6-4ad5-a372-8a2e7b593dde",
   "metadata": {},
   "outputs": [],
   "source": [
    "import pandas as pd\n",
    "import numpy as np\n",
    "import os\n",
    "from datetime import datetime, timedelta"
   ]
  },
  {
   "cell_type": "code",
   "execution_count": 2,
   "id": "a9a3d5a3-f41a-47c7-be5e-25a95aea67ac",
   "metadata": {},
   "outputs": [],
   "source": [
    "num_rows = 200\n",
    "event_types = [\"Login\", \"Click\", \"View\", \"Logout\", \"Click \", \" login\"]\n",
    "user_ids = [f\"user{np.random.randint(100,999)}\" for _ in range(30)]\n",
    "start_time = datetime(2025, 8, 1, 10, 0, 0)"
   ]
  },
  {
   "cell_type": "code",
   "execution_count": 3,
   "id": "a8f86aca-2e82-4498-a9fa-955a013e18b5",
   "metadata": {},
   "outputs": [],
   "source": [
    "data = []\n",
    "\n",
    "for _ in range(num_rows):\n",
    "    timestamp = start_time + timedelta(minutes=np.random.randint(0, 300))\n",
    "    event_type = np.random.choice(event_types)\n",
    "    user_id = np.random.choice(user_ids)\n",
    "    \n",
    "    data.append({\n",
    "        \"timestamp\": timestamp.strftime(\"%Y-%m-%d %H:%M:%S\"),\n",
    "        \"event_type\": event_type,\n",
    "        \"user_id\": user_id\n",
    "    })"
   ]
  },
  {
   "cell_type": "code",
   "execution_count": 4,
   "id": "fe6b706e-3b57-49c0-b9d0-f209c54541de",
   "metadata": {},
   "outputs": [
    {
     "name": "stdout",
     "output_type": "stream",
     "text": [
      "File 'logs.csv' has been created with 200 rows.\n",
      "<class 'pandas.core.frame.DataFrame'>\n",
      "RangeIndex: 200 entries, 0 to 199\n",
      "Data columns (total 3 columns):\n",
      " #   Column      Non-Null Count  Dtype \n",
      "---  ------      --------------  ----- \n",
      " 0   timestamp   200 non-null    object\n",
      " 1   event_type  200 non-null    object\n",
      " 2   user_id     200 non-null    object\n",
      "dtypes: object(3)\n",
      "memory usage: 4.8+ KB\n"
     ]
    }
   ],
   "source": [
    "log = pd.DataFrame(data)\n",
    "os.makedirs(\"data\", exist_ok=True)\n",
    "log.to_csv(\"data/logs.csv\", index=False)\n",
    "print(\"File 'logs.csv' has been created with\", len(log), \"rows.\")\n",
    "log.info()"
   ]
  },
  {
   "cell_type": "code",
   "execution_count": null,
   "id": "ac29c7c7-e888-4fab-a60f-80fcc838a2fc",
   "metadata": {},
   "outputs": [],
   "source": []
  }
 ],
 "metadata": {
  "kernelspec": {
   "display_name": "Python 3 (ipykernel)",
   "language": "python",
   "name": "python3"
  },
  "language_info": {
   "codemirror_mode": {
    "name": "ipython",
    "version": 3
   },
   "file_extension": ".py",
   "mimetype": "text/x-python",
   "name": "python",
   "nbconvert_exporter": "python",
   "pygments_lexer": "ipython3",
   "version": "3.13.5"
  }
 },
 "nbformat": 4,
 "nbformat_minor": 5
}
